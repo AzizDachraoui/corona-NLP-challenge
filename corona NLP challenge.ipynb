{
 "cells": [
  {
   "cell_type": "markdown",
   "metadata": {},
   "source": [
    "<h2>Import Libraries</h2>"
   ]
  },
  {
   "cell_type": "code",
   "execution_count": 24,
   "metadata": {},
   "outputs": [],
   "source": [
    "import pandas as pd\n",
    "import numpy as np\n",
    "import matplotlib.pyplot as plt\n",
    "import seaborn as sns\n",
    "from nltk.corpus import stopwords\n",
    "import nltk \n",
    "import re\n",
    "from textblob import TextBlob\n",
    "from sklearn.feature_extraction.text import CountVectorizer\n",
    "from sklearn.decomposition import LatentDirichletAllocation\n",
    "from sklearn.model_selection import train_test_split\n",
    "from sklearn.linear_model import LinearRegression\n"
   ]
  },
  {
   "cell_type": "markdown",
   "metadata": {},
   "source": [
    "<h2>Reading data</h2>"
   ]
  },
  {
   "cell_type": "code",
   "execution_count": 2,
   "metadata": {},
   "outputs": [
    {
     "data": {
      "text/html": [
       "<div>\n",
       "<style scoped>\n",
       "    .dataframe tbody tr th:only-of-type {\n",
       "        vertical-align: middle;\n",
       "    }\n",
       "\n",
       "    .dataframe tbody tr th {\n",
       "        vertical-align: top;\n",
       "    }\n",
       "\n",
       "    .dataframe thead th {\n",
       "        text-align: right;\n",
       "    }\n",
       "</style>\n",
       "<table border=\"1\" class=\"dataframe\">\n",
       "  <thead>\n",
       "    <tr style=\"text-align: right;\">\n",
       "      <th></th>\n",
       "      <th>id</th>\n",
       "      <th>subreddit</th>\n",
       "      <th>title</th>\n",
       "      <th>time_created</th>\n",
       "      <th>body</th>\n",
       "      <th>score</th>\n",
       "      <th>num_comments</th>\n",
       "      <th>url</th>\n",
       "    </tr>\n",
       "  </thead>\n",
       "  <tbody>\n",
       "    <tr>\n",
       "      <th>0</th>\n",
       "      <td>fgi2pi</td>\n",
       "      <td>Coronavirus</td>\n",
       "      <td>Even if COVID-19 is unavoidable, delaying infe...</td>\n",
       "      <td>2020-03-11 02:04:01</td>\n",
       "      <td>NaN</td>\n",
       "      <td>109339</td>\n",
       "      <td>3552</td>\n",
       "      <td>https://thespinoff.co.nz/wp-content/uploads/20...</td>\n",
       "    </tr>\n",
       "    <tr>\n",
       "      <th>1</th>\n",
       "      <td>fjcz60</td>\n",
       "      <td>Coronavirus</td>\n",
       "      <td>An Italian hospital ran out of ICU valves. A l...</td>\n",
       "      <td>2020-03-16 09:52:17</td>\n",
       "      <td>NaN</td>\n",
       "      <td>92343</td>\n",
       "      <td>1368</td>\n",
       "      <td>https://twitter.com/michalnaka/status/12393162...</td>\n",
       "    </tr>\n",
       "    <tr>\n",
       "      <th>2</th>\n",
       "      <td>fjn7at</td>\n",
       "      <td>Coronavirus</td>\n",
       "      <td>Mitt Romney: Every American adult should immed...</td>\n",
       "      <td>2020-03-16 23:58:19</td>\n",
       "      <td>NaN</td>\n",
       "      <td>71918</td>\n",
       "      <td>3775</td>\n",
       "      <td>https://twitter.com/jmartNYT/status/1239578864...</td>\n",
       "    </tr>\n",
       "    <tr>\n",
       "      <th>3</th>\n",
       "      <td>fheqv9</td>\n",
       "      <td>Coronavirus</td>\n",
       "      <td>As expected, Pornhub offers free Premium acces...</td>\n",
       "      <td>2020-03-12 19:18:23</td>\n",
       "      <td>NaN</td>\n",
       "      <td>70608</td>\n",
       "      <td>1657</td>\n",
       "      <td>https://www.fantacalcio.it/news/attualita/12_0...</td>\n",
       "    </tr>\n",
       "    <tr>\n",
       "      <th>4</th>\n",
       "      <td>fk6aqs</td>\n",
       "      <td>Coronavirus</td>\n",
       "      <td>Italy: Surgeon, anesthesiologist and nurse hav...</td>\n",
       "      <td>2020-03-17 22:36:26</td>\n",
       "      <td>NaN</td>\n",
       "      <td>69634</td>\n",
       "      <td>1495</td>\n",
       "      <td>https://torino.repubblica.it/cronaca/2020/03/1...</td>\n",
       "    </tr>\n",
       "  </tbody>\n",
       "</table>\n",
       "</div>"
      ],
      "text/plain": [
       "       id    subreddit                                              title  \\\n",
       "0  fgi2pi  Coronavirus  Even if COVID-19 is unavoidable, delaying infe...   \n",
       "1  fjcz60  Coronavirus  An Italian hospital ran out of ICU valves. A l...   \n",
       "2  fjn7at  Coronavirus  Mitt Romney: Every American adult should immed...   \n",
       "3  fheqv9  Coronavirus  As expected, Pornhub offers free Premium acces...   \n",
       "4  fk6aqs  Coronavirus  Italy: Surgeon, anesthesiologist and nurse hav...   \n",
       "\n",
       "          time_created body   score  num_comments  \\\n",
       "0  2020-03-11 02:04:01  NaN  109339          3552   \n",
       "1  2020-03-16 09:52:17  NaN   92343          1368   \n",
       "2  2020-03-16 23:58:19  NaN   71918          3775   \n",
       "3  2020-03-12 19:18:23  NaN   70608          1657   \n",
       "4  2020-03-17 22:36:26  NaN   69634          1495   \n",
       "\n",
       "                                                 url  \n",
       "0  https://thespinoff.co.nz/wp-content/uploads/20...  \n",
       "1  https://twitter.com/michalnaka/status/12393162...  \n",
       "2  https://twitter.com/jmartNYT/status/1239578864...  \n",
       "3  https://www.fantacalcio.it/news/attualita/12_0...  \n",
       "4  https://torino.repubblica.it/cronaca/2020/03/1...  "
      ]
     },
     "execution_count": 2,
     "metadata": {},
     "output_type": "execute_result"
    }
   ],
   "source": [
    "df = pd.read_csv(r'C:\\Users\\ASUS\\Desktop\\dev\\dataset\\coronavirus-posts-in-reddit-platform\\coronavirus_reddit_posts.csv',delimiter=',',encoding='latin-1')\n",
    "df.head()"
   ]
  },
  {
   "cell_type": "code",
   "execution_count": 3,
   "metadata": {},
   "outputs": [
    {
     "name": "stdout",
     "output_type": "stream",
     "text": [
      "<class 'pandas.core.frame.DataFrame'>\n",
      "RangeIndex: 9369 entries, 0 to 9368\n",
      "Data columns (total 8 columns):\n",
      " #   Column        Non-Null Count  Dtype \n",
      "---  ------        --------------  ----- \n",
      " 0   id            9369 non-null   object\n",
      " 1   subreddit     9369 non-null   object\n",
      " 2   title         9369 non-null   object\n",
      " 3   time_created  9369 non-null   object\n",
      " 4   body          3146 non-null   object\n",
      " 5   score         9369 non-null   int64 \n",
      " 6   num_comments  9369 non-null   int64 \n",
      " 7   url           9369 non-null   object\n",
      "dtypes: int64(2), object(6)\n",
      "memory usage: 585.7+ KB\n"
     ]
    }
   ],
   "source": [
    "df.info()"
   ]
  },
  {
   "cell_type": "code",
   "execution_count": 4,
   "metadata": {},
   "outputs": [
    {
     "data": {
      "text/plain": [
       "0"
      ]
     },
     "execution_count": 4,
     "metadata": {},
     "output_type": "execute_result"
    }
   ],
   "source": [
    "df.duplicated().sum()"
   ]
  },
  {
   "cell_type": "code",
   "execution_count": 5,
   "metadata": {
    "scrolled": true
   },
   "outputs": [
    {
     "data": {
      "text/plain": [
       "id                 0\n",
       "subreddit          0\n",
       "title              0\n",
       "time_created       0\n",
       "body            6223\n",
       "score              0\n",
       "num_comments       0\n",
       "url                0\n",
       "dtype: int64"
      ]
     },
     "execution_count": 5,
     "metadata": {},
     "output_type": "execute_result"
    }
   ],
   "source": [
    "df.isnull().sum(axis=0)"
   ]
  },
  {
   "cell_type": "code",
   "execution_count": 6,
   "metadata": {},
   "outputs": [
    {
     "data": {
      "text/plain": [
       "CoronaVirus_2019_nCoV    1000\n",
       "CoronavirusFOS           1000\n",
       "China_Flu                 999\n",
       "CanadaCoronavirus         999\n",
       "nCoV                      998\n",
       "CoronavirusUK             998\n",
       "CoronavirusUS             992\n",
       "Coronavirus               957\n",
       "COVID19                   822\n",
       "COVID19_support           604\n",
       "Name: subreddit, dtype: int64"
      ]
     },
     "execution_count": 6,
     "metadata": {},
     "output_type": "execute_result"
    }
   ],
   "source": [
    "df['subreddit'].value_counts(dropna=False)"
   ]
  },
  {
   "cell_type": "code",
   "execution_count": 7,
   "metadata": {},
   "outputs": [
    {
     "data": {
      "text/plain": [
       "NaN                                                                                                                                                                                                                                                                                                                                                                                                                                                                                                                                                                                                                                                                                                                                                                                                                                                                                                                                                                                                                                                                                                                                                                                                                                                                                                                                                                                                                                                                                                                                                                                                                                                                                                                                                                                                                                                                                                                                                                                                                                                                                                                                                                                                                                                                                                                                                                                                                                                                                                                                                                                                                                                                                                                                                                                                                                                                                                                                                                                                                                                                                                                                                                                                                                                                                                                                                        6223\n",
       "*Separated by region!* Please specify which State in your post.\\n\\n**Comprehensive List of Departments of Public Health, by State. Find your state's website for state-specific info** - https://www.reddit.com/r/CoronavirusUS/comments/ff1wp5/comprehensive_list_of_departments_of_public/\\n\\nCan't find any Purell anywhere? Is the local Costco super busy? Or everything look OK out there? Post here, in your region's section!\\n\\nRegions are grouped the same way as flairs. Sort by NEW to see the newest submissions.\\n\\nPlease check out our sister subreddit r/nycCoronavirus for NYC-related news and discussion.\\n\\n---\\n\\nFAQs - https://www.canada.ca/en/public-health/services/diseases/2019-novel-coronavirus-infection/frequently-asked-questions.html\\n\\nGood Map of Current Coronavirus in the US - https://www.nytimes.com/interactive/2020/us/coronavirus-us-cases.html                                                                                                                                                                                                                                                                                                                                                                                                                                                                                                                                                                                                                                                                                                                                                                                                                                                                                                                                                                                                                                                                                                                                                                                                                                                                                                                                                                                                                                                                                                                                                                                                                                                                                                                                                                                                                                                                                                                                                                                                                                                                                                                                                                                                                                                                                                                                                                                                                                                                3\n",
       "[https://www.smithsonianmag.com/history/journal-plague-year-180965222/](https://www.smithsonianmag.com/history/journal-plague-year-180965222/?fbclid=IwAR0Sj9ycjq2IQAZiWVLqG_8S7Vq-SGlBjE_zWgPn_YbtcxLe9FiL9EMteFU)                                                                                                                                                                                                                                                                                                                                                                                                                                                                                                                                                                                                                                                                                                                                                                                                                                                                                                                                                                                                                                                                                                                                                                                                                                                                                                                                                                                                                                                                                                                                                                                                                                                                                                                                                                                                                                                                                                                                                                                                                                                                                                                                                                                                                                                                                                                                                                                                                                                                                                                                                                                                                                                                                                                                                                                                                                                                                                                                                                                                                                                                                                                                           2\n",
       "I currently work at a relatively small hearing aid company in Arizona. Last year, we had a massive increase in business and things were looking great for the future of the company. Before the lunar new year we had a massive increase in online orders. Due to the size of the company I'm close with all administrative staff. The company sources all its plastic materials and parts from China. \\n\\nWe were told BEFORE the holidays there would be a short delay on a very large order of materials. This delay kept getting pushed back a week until, in January, we were told we wouldn't recieve product until mid-March. Yesterday, that time was entended to \"the foreseeable future\". Decisions were made to leave the orders open (halting sales would seriously hurt the companies trajectory), so by now we had already had thousands of backordered products.\\n\\nI was informed yesterday I would be losing my job (effective at the end of this week). My administrator leveled with me and let me know the company was in a horrible financial situation and would be declaring bankruptcy and closing down indefinitely as advised by their lawyers and financial advisors.\\n\\nI never thought my job at a relatively small but successful american company would be jeopardized by this. The company simply did not have the investors, or capital to recover from this.\\n\\nI'm not sure how badly the larger corporations are feeling this hit, but I except they are also losing hundreds of thousands if not millions.\\n\\nHopefully I can help others who may be in my situation soon become aware of this and prepare.\\n\\n__\\n\\nEDIT: From your comments I can tell I dont have the full story from my bosses. I know it's hard for small companies to switch suppliers overnight, but 3 months is too short a time to tank a properly run company. I don't want to spread misinformation, but I'd assume they were already struggling and keeping it from us employees. This was likely the last straw.                                                                                                                                                                                                                                                                                                                                                                                                                                                                                                                                                                                                                                                                                                                                                                                                                                                                                                                                                                                                                                                                                                                                                                                                                                                                                                                            2\n",
       "Title                                                                                                                                                                                                                                                                                                                                                                                                                                                                                                                                                                                                                                                                                                                                                                                                                                                                                                                                                                                                                                                                                                                                                                                                                                                                                                                                                                                                                                                                                                                                                                                                                                                                                                                                                                                                                                                                                                                                                                                                                                                                                                                                                                                                                                                                                                                                                                                                                                                                                                                                                                                                                                                                                                                                                                                                                                                                                                                                                                                                                                                                                                                                                                                                                                                                                                                                                         2\n",
       "                                                                                                                                                                                                                                                                                                                                                                                                                                                                                                                                                                                                                                                                                                                                                                                                                                                                                                                                                                                                                                                                                                                                                                                                                                                                                                                                                                                                                                                                                                                                                                                                                                                                                                                                                                                                                                                                                                                                                                                                                                                                                                                                                                                                                                                                                                                                                                                                                                                                                                                                                                                                                                                                                                                                                                                                                                                                                                                                                                                                                                                                                                                                                                                                                                                                                                                                                           ... \n",
       "I wore a N95 mask to the grocery store today and to target .A worker took a picture of me and told her coworker sheâs going to scare her parents  with it .A random dude went up to me and questioned me to why I was wearing a mask And said itâs weird  .My sister also said I shouldnât wear it because people stare .This is whatâs wrong with America and thatâs why we are screwed .In Asia everyone wears a mask and it totally normal !\\n\\nEdit-Thanks for the upvotes and I guess Iâll keep wearing my mask to keep myself safe .Also my sister is asthmatic,epileptic,and type one diabetic so she would get super ill if I got it and gave it to her.Im just a young dude in my 20s who hates getting bad looks and harassed !Im a stylish guy and donât like wearing the mask but it has to be worn !                                                                                                                                                                                                                                                                                                                                                                                                                                                                                                                                                                                                                                                                                                                                                                                                                                                                                                                                                                                                                                                                                                                                                                                                                                                                                                                                                                                                                                                                                                                                                                                                                                                                                                                                                                                                                                                                                                                                                                                                                                                                                                                                                                                                                                                                                                                                                                                                                                                                                                                               1\n",
       "I love this as an argument for #flattenthecurve. It should be spread far and wide.\\n\\nParaphrased from: [https://www.thecut.com/2020/03/what-is-life-in-italy-like-under-coronavirus-lockdown.html#\\_ga=2.51285417.1634545419.1583979835-623864020.1576274299](https://www.thecut.com/2020/03/what-is-life-in-italy-like-under-coronavirus-lockdown.html#_ga=2.51285417.1634545419.1583979835-623864020.1576274299)                                                                                                                                                                                                                                                                                                                                                                                                                                                                                                                                                                                                                                                                                                                                                                                                                                                                                                                                                                                                                                                                                                                                                                                                                                                                                                                                                                                                                                                                                                                                                                                                                                                                                                                                                                                                                                                                                                                                                                                                                                                                                                                                                                                                                                                                                                                                                                                                                                                                                                                                                                                                                                                                                                                                                                                                                                                                                                                                           1\n",
       "I am writing this post to appeal to folks to read about and be conscious of the US case count. I need this second buffer because both of my posts (which contain fully verifiable and well-regarded sources) on the matter are currently being down-voted to hell. Here they are:\\n\\n[https://www.reddit.com/r/Covid2019/comments/f7tndp/can\\_someone\\_help\\_explain\\_what\\_is\\_going\\_on\\_with/](https://www.reddit.com/r/Covid2019/comments/f7tndp/can_someone_help_explain_what_is_going_on_with/)\\n\\n[https://www.reddit.com/r/CoronavirusFOS/comments/f7trfv/can\\_someone\\_explain\\_what\\_is\\_going\\_on\\_with/](https://www.reddit.com/r/CoronavirusFOS/comments/f7trfv/can_someone_explain_what_is_going_on_with/)\\n\\nMost importantly, if you see a legitimate and verifiable original post, please help to combat its censorship by up-voting it.                                                                                                                                                                                                                                                                                                                                                                                                                                                                                                                                                                                                                                                                                                                                                                                                                                                                                                                                                                                                                                                                                                                                                                                                                                                                                                                                                                                                                                                                                                                                                                                                                                                                                                                                                                                                                                                                                                                                                                                                                                                                                                                                                                                                                                                                                                                                                                                                                                                                                                     1\n",
       "I am writing to you from Bergamo, Italy, at the heart of the coronavirus crisis. The news media in the US has not captured the severity of what is happening here. I am writing this post because each of you, today, not the government, not the school district, not the mayor, each individual citizen has the chance, today to take actions that will deter the Italian situation from becoming your own countryâs reality.  The only way to stop this virus is to limit contagion. And the only way to limit contagion is for millions of people to change their behavior today. \\n\\nIf you are in Europe or the US you are weeks away from where we are today in Italy.\\n\\nI can hear you now. âItâs just a flu. It only affects old people with preconditionsâ\\n\\nThere are 2 reasons why Coronavirus has brought Italy to itâs knees. First it is a flu is devastating when people get really sick they need weeks of ICU â and, second, because of how fast and effectively it spreads. There is 2 week incubation period and many who have it never show symptoms.  \\n\\nWhen Prime Minister Conte announced last night that the entire country, 60 million people, would go on lock down, the line that struck me most was âthere is no more time.â Because to be clear, this national lock down, is a hail mary. What he means is that if the numbers of contagion do not start to go down, the system, Italy, will collapse. \\n\\nWhy? Today the ICUs in Lombardy are at capacity â more than capacity. They have begun to put ICU units in the hallways. If the numbers do not go down, the growth rate of contagion tells us that there will be thousands of people who in a matter of a week? two weeks? who will need care. What will happen when there are 100, or a 1000 people who need the hospital and only a few ICU places left? \\n\\nOn Monday a doctor wrote in the paper that they have begun to have to decide who lives and who dies when the patients show up in the emergency room, like what is done in war. This will only get worse. \\n\\nThere are a finite number of drs, nurses, medical staff and they are getting the virus. They have also been working non-stop, non-stop for days and days. What happens when the drs, nurses and medical staff are simply not able to care for the patients, when they are not there?\\n\\nAnd finally for those who say that this is just something that happens to old people, starting yesterday the hospitals are reporting that younger and younger patients â 40, 45, 18, are coming in for treatment. \\n\\nYou have a chance to make a difference and stop the spread in your country. Push for the entire office to work at home today, cancel birthday parties, and other gatherings, stay home as much as you can. If you have a fever, any fever, stay home. Push for school closures, now. Anything you can do to stop the spread, because it is spreading in your communities â there is a two week incubation period â and if you do these things now you can buy your medical system time. \\n\\nAnd for those who say it is not possible to close the schools, and do all these other things, locking down Italy was beyond anyoneâs imagination a week ago. \\n\\nSoon you will not have a choice, so do what you can now. \\n\\nPlease share.       1\n",
       "I am expecting my parents home in 2-3 days from the US. They are currently driving north and I have abandoned my apartment to move onto their property as we didnât want to be on lockdown in a 650sqft apartment.\\n\\nTheir property is a 2 story bungalow with 1 kitchen. Iâm trying to prep for how to honour the self-isolation they need to enforce; so far my plan consists of considering âtheir areaâ the master bedroom and adjoining en-suite/master bath as well as the family room. We will be sleeping in the basement and setting up our entertainment in the basement.\\n\\nSo far I am planning on doing the cooking/laundry and avoiding personal proximity, is there anyone who has experience with this who can offer tips? Iâm assuming I should do things like wash my hands when I bring them food or do their laundry/take out their trash. Sanitize the surfaces they touch.\\n\\nI just have no expert experience and Iâm hoping someone has it so they can tell me that 1 thing thatâs going to get me sick as I probably will have to go out Atleast 2-3 times during the next 2 weeks for supplies as I donât want to drain my resources beyond a certain point.\\n\\nJust to be clear they have been self-isolating in the States and have no symptoms but I have no interest in being âthat guyâ.                                                                                                                                                                                                                                                                                                                                                                                                                                                                                                                                                                                                                                                                                                                                                                                                                                                                                                                                                                                                                                                                                                                                                                                                                                                                                                                                                                                                                                                                                                                                                                                                                                                                                                                                                                                                                                                                                                                                                                                                                  1\n",
       "Name: body, Length: 3137, dtype: int64"
      ]
     },
     "execution_count": 7,
     "metadata": {},
     "output_type": "execute_result"
    }
   ],
   "source": [
    "df['body'].value_counts(dropna=False)"
   ]
  },
  {
   "cell_type": "code",
   "execution_count": 8,
   "metadata": {},
   "outputs": [
    {
     "data": {
      "text/html": [
       "<div>\n",
       "<style scoped>\n",
       "    .dataframe tbody tr th:only-of-type {\n",
       "        vertical-align: middle;\n",
       "    }\n",
       "\n",
       "    .dataframe tbody tr th {\n",
       "        vertical-align: top;\n",
       "    }\n",
       "\n",
       "    .dataframe thead th {\n",
       "        text-align: right;\n",
       "    }\n",
       "</style>\n",
       "<table border=\"1\" class=\"dataframe\">\n",
       "  <thead>\n",
       "    <tr style=\"text-align: right;\">\n",
       "      <th></th>\n",
       "      <th>id</th>\n",
       "      <th>comment</th>\n",
       "    </tr>\n",
       "  </thead>\n",
       "  <tbody>\n",
       "    <tr>\n",
       "      <th>0</th>\n",
       "      <td>fgi2pi</td>\n",
       "      <td>everybody i talk area \" whatever \" camp , infu...</td>\n",
       "    </tr>\n",
       "    <tr>\n",
       "      <th>1</th>\n",
       "      <td>fgi2pi</td>\n",
       "      <td>people going get - avoid , helps tremendously ...</td>\n",
       "    </tr>\n",
       "    <tr>\n",
       "      <th>2</th>\n",
       "      <td>fgi2pi</td>\n",
       "      <td>i ' feeling hot today . i weird dry cough , li...</td>\n",
       "    </tr>\n",
       "    <tr>\n",
       "      <th>3</th>\n",
       "      <td>fgi2pi</td>\n",
       "      <td>see rest article infectious disease expert [ d...</td>\n",
       "    </tr>\n",
       "    <tr>\n",
       "      <th>4</th>\n",
       "      <td>fgi2pi</td>\n",
       "      <td>considering number icu beds , flatten peak sav...</td>\n",
       "    </tr>\n",
       "  </tbody>\n",
       "</table>\n",
       "</div>"
      ],
      "text/plain": [
       "       id                                            comment\n",
       "0  fgi2pi  everybody i talk area \" whatever \" camp , infu...\n",
       "1  fgi2pi  people going get - avoid , helps tremendously ...\n",
       "2  fgi2pi  i ' feeling hot today . i weird dry cough , li...\n",
       "3  fgi2pi  see rest article infectious disease expert [ d...\n",
       "4  fgi2pi  considering number icu beds , flatten peak sav..."
      ]
     },
     "execution_count": 8,
     "metadata": {},
     "output_type": "execute_result"
    }
   ],
   "source": [
    "df1 = pd.read_csv(r'C:\\Users\\ASUS\\Desktop\\dev\\dataset\\coronavirus-posts-in-reddit-platform\\coronavirus_reddit_clean_comments.csv',delimiter=',',encoding='latin-1')\n",
    "df1.head()"
   ]
  },
  {
   "cell_type": "code",
   "execution_count": 9,
   "metadata": {},
   "outputs": [
    {
     "name": "stdout",
     "output_type": "stream",
     "text": [
      "<class 'pandas.core.frame.DataFrame'>\n",
      "RangeIndex: 589022 entries, 0 to 589021\n",
      "Data columns (total 2 columns):\n",
      " #   Column   Non-Null Count   Dtype \n",
      "---  ------   --------------   ----- \n",
      " 0   id       589022 non-null  object\n",
      " 1   comment  587402 non-null  object\n",
      "dtypes: object(2)\n",
      "memory usage: 9.0+ MB\n"
     ]
    }
   ],
   "source": [
    "df1.info()"
   ]
  },
  {
   "cell_type": "code",
   "execution_count": 10,
   "metadata": {},
   "outputs": [
    {
     "data": {
      "text/plain": [
       "5033"
      ]
     },
     "execution_count": 10,
     "metadata": {},
     "output_type": "execute_result"
    }
   ],
   "source": [
    "df1.duplicated().sum()"
   ]
  },
  {
   "cell_type": "code",
   "execution_count": 11,
   "metadata": {},
   "outputs": [
    {
     "data": {
      "text/plain": [
       "(583989, 2)"
      ]
     },
     "execution_count": 11,
     "metadata": {},
     "output_type": "execute_result"
    }
   ],
   "source": [
    "df1.drop_duplicates(keep='first').shape"
   ]
  },
  {
   "cell_type": "code",
   "execution_count": 12,
   "metadata": {},
   "outputs": [
    {
     "data": {
      "text/plain": [
       "id            0\n",
       "comment    1620\n",
       "dtype: int64"
      ]
     },
     "execution_count": 12,
     "metadata": {},
     "output_type": "execute_result"
    }
   ],
   "source": [
    "df1.isnull().sum(axis=0)"
   ]
  },
  {
   "cell_type": "code",
   "execution_count": 60,
   "metadata": {},
   "outputs": [
    {
     "data": {
      "text/html": [
       "<div>\n",
       "<style scoped>\n",
       "    .dataframe tbody tr th:only-of-type {\n",
       "        vertical-align: middle;\n",
       "    }\n",
       "\n",
       "    .dataframe tbody tr th {\n",
       "        vertical-align: top;\n",
       "    }\n",
       "\n",
       "    .dataframe thead th {\n",
       "        text-align: right;\n",
       "    }\n",
       "</style>\n",
       "<table border=\"1\" class=\"dataframe\">\n",
       "  <thead>\n",
       "    <tr style=\"text-align: right;\">\n",
       "      <th></th>\n",
       "      <th>id</th>\n",
       "      <th>comment</th>\n",
       "    </tr>\n",
       "  </thead>\n",
       "  <tbody>\n",
       "    <tr>\n",
       "      <th>0</th>\n",
       "      <td>fgi2pi</td>\n",
       "      <td>Welcome to r/Coronavirus! We have a very speci...</td>\n",
       "    </tr>\n",
       "    <tr>\n",
       "      <th>1</th>\n",
       "      <td>fgi2pi</td>\n",
       "      <td>Everybody I talk to about this in my area is i...</td>\n",
       "    </tr>\n",
       "    <tr>\n",
       "      <th>2</th>\n",
       "      <td>fgi2pi</td>\n",
       "      <td>People are going to get it - but if you can av...</td>\n",
       "    </tr>\n",
       "    <tr>\n",
       "      <th>3</th>\n",
       "      <td>fgi2pi</td>\n",
       "      <td>I wasn't feeling too hot today. I have this we...</td>\n",
       "    </tr>\n",
       "    <tr>\n",
       "      <th>4</th>\n",
       "      <td>fgi2pi</td>\n",
       "      <td>See the rest of the article by infectious dise...</td>\n",
       "    </tr>\n",
       "  </tbody>\n",
       "</table>\n",
       "</div>"
      ],
      "text/plain": [
       "       id                                            comment\n",
       "0  fgi2pi  Welcome to r/Coronavirus! We have a very speci...\n",
       "1  fgi2pi  Everybody I talk to about this in my area is i...\n",
       "2  fgi2pi  People are going to get it - but if you can av...\n",
       "3  fgi2pi  I wasn't feeling too hot today. I have this we...\n",
       "4  fgi2pi  See the rest of the article by infectious dise..."
      ]
     },
     "execution_count": 60,
     "metadata": {},
     "output_type": "execute_result"
    }
   ],
   "source": [
    "df2 = pd.read_csv(r'C:\\Users\\ASUS\\Desktop\\dev\\dataset\\coronavirus-posts-in-reddit-platform\\coronavirus_reddit_raw_comments.csv',delimiter=',',encoding='latin-1')\n",
    "df2.head()"
   ]
  },
  {
   "cell_type": "code",
   "execution_count": 14,
   "metadata": {
    "scrolled": true
   },
   "outputs": [
    {
     "name": "stdout",
     "output_type": "stream",
     "text": [
      "<class 'pandas.core.frame.DataFrame'>\n",
      "RangeIndex: 605993 entries, 0 to 605992\n",
      "Data columns (total 2 columns):\n",
      " #   Column   Non-Null Count   Dtype \n",
      "---  ------   --------------   ----- \n",
      " 0   id       605993 non-null  object\n",
      " 1   comment  605993 non-null  object\n",
      "dtypes: object(2)\n",
      "memory usage: 9.2+ MB\n"
     ]
    }
   ],
   "source": [
    "df2.info()"
   ]
  },
  {
   "cell_type": "code",
   "execution_count": 15,
   "metadata": {},
   "outputs": [
    {
     "data": {
      "text/plain": [
       "15774"
      ]
     },
     "execution_count": 15,
     "metadata": {},
     "output_type": "execute_result"
    }
   ],
   "source": [
    "df2.duplicated().sum()"
   ]
  },
  {
   "cell_type": "code",
   "execution_count": 16,
   "metadata": {},
   "outputs": [
    {
     "data": {
      "text/plain": [
       "(590219, 2)"
      ]
     },
     "execution_count": 16,
     "metadata": {},
     "output_type": "execute_result"
    }
   ],
   "source": [
    "df2.drop_duplicates(keep='first').shape"
   ]
  },
  {
   "cell_type": "code",
   "execution_count": 17,
   "metadata": {},
   "outputs": [
    {
     "data": {
      "text/plain": [
       "id         0\n",
       "comment    0\n",
       "dtype: int64"
      ]
     },
     "execution_count": 17,
     "metadata": {},
     "output_type": "execute_result"
    }
   ],
   "source": [
    "df2.isnull().sum(axis=0)"
   ]
  },
  {
   "cell_type": "markdown",
   "metadata": {},
   "source": [
    "<h2>Data Preprocessing </h2>"
   ]
  },
  {
   "cell_type": "code",
   "execution_count": 29,
   "metadata": {},
   "outputs": [],
   "source": [
    "STOPWORDS = set(stopwords.words('english'))\n",
    "from nltk.stem import WordNetLemmatizer\n",
    "stemmer = WordNetLemmatizer()\n",
    "en_stop = set(nltk.corpus.stopwords.words('english'))\n",
    "\n",
    "def preprocess_text(sen):\n",
    "    # Removing html tags\n",
    "    sentence = remove_tags(sen)\n",
    "\n",
    "    # Removing punctuations and numbers\n",
    "    sentence = re.sub('[^a-zA-Z]', ' ', sentence)\n",
    "\n",
    "    # Single character removal\n",
    "    sentence = re.sub(r\"\\s+[a-zA-Z]\\s+\", ' ', sentence)\n",
    "\n",
    "    # Removing multiple spaces\n",
    "    sentence = re.sub(r'\\s+', ' ', sentence)\n",
    "    \n",
    "    # Lowercase\n",
    "    sentence = sentence.lower() \n",
    "    \n",
    "    # Removing StopWords\n",
    "    sentence = ' '.join(word for word in sentence.split() if word not in STOPWORDS)\n",
    "    \n",
    "    # Stemming\n",
    "    tokens = sentence .split()\n",
    "    tokens = [stemmer.lemmatize(word) for word in tokens]\n",
    "    tokens = [word for word in tokens if word not in en_stop]\n",
    "    sentence = ' '.join(tokens)\n",
    "    \n",
    "    return sentence\n"
   ]
  },
  {
   "cell_type": "code",
   "execution_count": 30,
   "metadata": {},
   "outputs": [],
   "source": [
    "TAG_RE = re.compile(r'<[^>]+>')\n",
    "\n",
    "def remove_tags(text):\n",
    "    return TAG_RE.sub('', text)"
   ]
  },
  {
   "cell_type": "code",
   "execution_count": 61,
   "metadata": {},
   "outputs": [],
   "source": [
    "df2['comment'] = df2['comment'].apply(preprocess_text)\n"
   ]
  },
  {
   "cell_type": "code",
   "execution_count": 36,
   "metadata": {},
   "outputs": [
    {
     "data": {
      "text/html": [
       "<div>\n",
       "<style scoped>\n",
       "    .dataframe tbody tr th:only-of-type {\n",
       "        vertical-align: middle;\n",
       "    }\n",
       "\n",
       "    .dataframe tbody tr th {\n",
       "        vertical-align: top;\n",
       "    }\n",
       "\n",
       "    .dataframe thead th {\n",
       "        text-align: right;\n",
       "    }\n",
       "</style>\n",
       "<table border=\"1\" class=\"dataframe\">\n",
       "  <thead>\n",
       "    <tr style=\"text-align: right;\">\n",
       "      <th></th>\n",
       "      <th>id</th>\n",
       "      <th>comment</th>\n",
       "    </tr>\n",
       "  </thead>\n",
       "  <tbody>\n",
       "    <tr>\n",
       "      <th>0</th>\n",
       "      <td>fgi2pi</td>\n",
       "      <td>welcome coronavirus specific set rule http www...</td>\n",
       "    </tr>\n",
       "    <tr>\n",
       "      <th>1</th>\n",
       "      <td>fgi2pi</td>\n",
       "      <td>everybody talk area whatever camp infuriates y...</td>\n",
       "    </tr>\n",
       "    <tr>\n",
       "      <th>2</th>\n",
       "      <td>fgi2pi</td>\n",
       "      <td>people going get avoid help tremendously aweso...</td>\n",
       "    </tr>\n",
       "    <tr>\n",
       "      <th>3</th>\n",
       "      <td>fgi2pi</td>\n",
       "      <td>feeling hot today weird dry cough little slugg...</td>\n",
       "    </tr>\n",
       "    <tr>\n",
       "      <th>4</th>\n",
       "      <td>fgi2pi</td>\n",
       "      <td>see rest article infectious disease expert dr ...</td>\n",
       "    </tr>\n",
       "  </tbody>\n",
       "</table>\n",
       "</div>"
      ],
      "text/plain": [
       "       id                                            comment\n",
       "0  fgi2pi  welcome coronavirus specific set rule http www...\n",
       "1  fgi2pi  everybody talk area whatever camp infuriates y...\n",
       "2  fgi2pi  people going get avoid help tremendously aweso...\n",
       "3  fgi2pi  feeling hot today weird dry cough little slugg...\n",
       "4  fgi2pi  see rest article infectious disease expert dr ..."
      ]
     },
     "execution_count": 36,
     "metadata": {},
     "output_type": "execute_result"
    }
   ],
   "source": [
    "df2.head(5)"
   ]
  },
  {
   "cell_type": "code",
   "execution_count": 109,
   "metadata": {},
   "outputs": [
    {
     "data": {
      "text/plain": [
       "0    even covid unavoidable delaying infection flat...\n",
       "1    italian hospital ran icu valve local biz broug...\n",
       "2    mitt romney every american adult immediately r...\n",
       "3    expected pornhub offer free premium access ita...\n",
       "4    italy surgeon anesthesiologist nurse risked in...\n",
       "Name: title, dtype: object"
      ]
     },
     "execution_count": 109,
     "metadata": {},
     "output_type": "execute_result"
    }
   ],
   "source": [
    "df['title'] = df['title'].apply(preprocess_text)\n",
    "df['title'].head()"
   ]
  },
  {
   "cell_type": "markdown",
   "metadata": {},
   "source": [
    "<h2>Task 1 : Sentiment analysis</h2>"
   ]
  },
  {
   "cell_type": "markdown",
   "metadata": {},
   "source": [
    "<H3>Sentiment analysis using textblob </H3>"
   ]
  },
  {
   "cell_type": "code",
   "execution_count": 37,
   "metadata": {},
   "outputs": [
    {
     "name": "stdout",
     "output_type": "stream",
     "text": [
      "Collecting textblob\n",
      "  Downloading textblob-0.15.3-py2.py3-none-any.whl (636 kB)\n",
      "Requirement already satisfied, skipping upgrade: nltk>=3.1 in c:\\users\\asus\\anaconda3\\lib\\site-packages (from textblob) (3.4.5)\n",
      "Requirement already satisfied, skipping upgrade: six in c:\\users\\asus\\anaconda3\\lib\\site-packages (from nltk>=3.1->textblob) (1.14.0)\n",
      "Installing collected packages: textblob\n",
      "Successfully installed textblob-0.15.3\n"
     ]
    }
   ],
   "source": [
    "!pip install -U textblob"
   ]
  },
  {
   "cell_type": "code",
   "execution_count": 38,
   "metadata": {},
   "outputs": [
    {
     "name": "stdout",
     "output_type": "stream",
     "text": [
      "Finished.\n"
     ]
    },
    {
     "name": "stderr",
     "output_type": "stream",
     "text": [
      "[nltk_data] Downloading package brown to\n",
      "[nltk_data]     C:\\Users\\ASUS\\AppData\\Roaming\\nltk_data...\n",
      "[nltk_data]   Package brown is already up-to-date!\n",
      "[nltk_data] Downloading package punkt to\n",
      "[nltk_data]     C:\\Users\\ASUS\\AppData\\Roaming\\nltk_data...\n",
      "[nltk_data]   Package punkt is already up-to-date!\n",
      "[nltk_data] Downloading package wordnet to\n",
      "[nltk_data]     C:\\Users\\ASUS\\AppData\\Roaming\\nltk_data...\n",
      "[nltk_data]   Package wordnet is already up-to-date!\n",
      "[nltk_data] Downloading package averaged_perceptron_tagger to\n",
      "[nltk_data]     C:\\Users\\ASUS\\AppData\\Roaming\\nltk_data...\n",
      "[nltk_data]   Package averaged_perceptron_tagger is already up-to-\n",
      "[nltk_data]       date!\n",
      "[nltk_data] Downloading package conll2000 to\n",
      "[nltk_data]     C:\\Users\\ASUS\\AppData\\Roaming\\nltk_data...\n",
      "[nltk_data]   Package conll2000 is already up-to-date!\n",
      "[nltk_data] Downloading package movie_reviews to\n",
      "[nltk_data]     C:\\Users\\ASUS\\AppData\\Roaming\\nltk_data...\n",
      "[nltk_data]   Package movie_reviews is already up-to-date!\n"
     ]
    }
   ],
   "source": [
    "!python -m textblob.download_corpora"
   ]
  },
  {
   "cell_type": "code",
   "execution_count": 42,
   "metadata": {},
   "outputs": [
    {
     "data": {
      "text/plain": [
       "'welcome coronavirus specific set rule http www reddit com coronavirus rule highlight civil personal attack accusation allowed repeated offence may lead ban avoid topic political discussion comment must related ongoing coronavirus outbreak comment focused politician rather public policy locked removed discretion repeat offender may banned please use reliable source unverified twitter youtube account facebook page general unverified personal account acceptable general question prepping info kept daily discussion thread giving soliciting medical advice includes verified health medical professional feeling anxious depressed overwhelmed please see list support resource http www reddit com coronavirus wiki support bot action performed automatically please contact moderator subreddit message compose coronavirus question concern'"
      ]
     },
     "execution_count": 42,
     "metadata": {},
     "output_type": "execute_result"
    }
   ],
   "source": [
    "df2['comment'][0]"
   ]
  },
  {
   "cell_type": "code",
   "execution_count": 43,
   "metadata": {},
   "outputs": [
    {
     "name": "stdout",
     "output_type": "stream",
     "text": [
      "0.05666666666666668\n"
     ]
    }
   ],
   "source": [
    "text_blob_object = TextBlob(df2['comment'][0])\n",
    "print(text_blob_object.sentiment.polarity)"
   ]
  },
  {
   "cell_type": "code",
   "execution_count": 44,
   "metadata": {},
   "outputs": [
    {
     "name": "stdout",
     "output_type": "stream",
     "text": [
      "0.2927777777777777\n"
     ]
    }
   ],
   "source": [
    "text_blob_object = TextBlob(df2['comment'][0])\n",
    "print(text_blob_object.sentiment.subjectivity)"
   ]
  },
  {
   "cell_type": "code",
   "execution_count": 62,
   "metadata": {},
   "outputs": [
    {
     "data": {
      "text/html": [
       "<div>\n",
       "<style scoped>\n",
       "    .dataframe tbody tr th:only-of-type {\n",
       "        vertical-align: middle;\n",
       "    }\n",
       "\n",
       "    .dataframe tbody tr th {\n",
       "        vertical-align: top;\n",
       "    }\n",
       "\n",
       "    .dataframe thead th {\n",
       "        text-align: right;\n",
       "    }\n",
       "</style>\n",
       "<table border=\"1\" class=\"dataframe\">\n",
       "  <thead>\n",
       "    <tr style=\"text-align: right;\">\n",
       "      <th></th>\n",
       "      <th>id</th>\n",
       "      <th>comment</th>\n",
       "      <th>Sentiment_Polarity</th>\n",
       "    </tr>\n",
       "  </thead>\n",
       "  <tbody>\n",
       "    <tr>\n",
       "      <th>0</th>\n",
       "      <td>fgi2pi</td>\n",
       "      <td>welcome coronavirus specific set rule http www...</td>\n",
       "      <td>0.056667</td>\n",
       "    </tr>\n",
       "    <tr>\n",
       "      <th>1</th>\n",
       "      <td>fgi2pi</td>\n",
       "      <td>everybody talk area whatever camp infuriates y...</td>\n",
       "      <td>0.000000</td>\n",
       "    </tr>\n",
       "    <tr>\n",
       "      <th>2</th>\n",
       "      <td>fgi2pi</td>\n",
       "      <td>people going get avoid help tremendously aweso...</td>\n",
       "      <td>0.333333</td>\n",
       "    </tr>\n",
       "    <tr>\n",
       "      <th>3</th>\n",
       "      <td>fgi2pi</td>\n",
       "      <td>feeling hot today weird dry cough little slugg...</td>\n",
       "      <td>-0.079390</td>\n",
       "    </tr>\n",
       "    <tr>\n",
       "      <th>4</th>\n",
       "      <td>fgi2pi</td>\n",
       "      <td>see rest article infectious disease expert dr ...</td>\n",
       "      <td>0.000000</td>\n",
       "    </tr>\n",
       "  </tbody>\n",
       "</table>\n",
       "</div>"
      ],
      "text/plain": [
       "       id                                            comment  \\\n",
       "0  fgi2pi  welcome coronavirus specific set rule http www...   \n",
       "1  fgi2pi  everybody talk area whatever camp infuriates y...   \n",
       "2  fgi2pi  people going get avoid help tremendously aweso...   \n",
       "3  fgi2pi  feeling hot today weird dry cough little slugg...   \n",
       "4  fgi2pi  see rest article infectious disease expert dr ...   \n",
       "\n",
       "   Sentiment_Polarity  \n",
       "0            0.056667  \n",
       "1            0.000000  \n",
       "2            0.333333  \n",
       "3           -0.079390  \n",
       "4            0.000000  "
      ]
     },
     "execution_count": 62,
     "metadata": {},
     "output_type": "execute_result"
    }
   ],
   "source": [
    "def find_pol(review):\n",
    "    return TextBlob(review).sentiment.polarity\n",
    "\n",
    "df2['Sentiment_Polarity'] = df2['comment'].apply(find_pol)\n",
    "df2.head()"
   ]
  },
  {
   "cell_type": "code",
   "execution_count": 63,
   "metadata": {},
   "outputs": [
    {
     "data": {
      "text/html": [
       "<div>\n",
       "<style scoped>\n",
       "    .dataframe tbody tr th:only-of-type {\n",
       "        vertical-align: middle;\n",
       "    }\n",
       "\n",
       "    .dataframe tbody tr th {\n",
       "        vertical-align: top;\n",
       "    }\n",
       "\n",
       "    .dataframe thead th {\n",
       "        text-align: right;\n",
       "    }\n",
       "</style>\n",
       "<table border=\"1\" class=\"dataframe\">\n",
       "  <thead>\n",
       "    <tr style=\"text-align: right;\">\n",
       "      <th></th>\n",
       "      <th>id</th>\n",
       "      <th>comment</th>\n",
       "      <th>Sentiment_Polarity</th>\n",
       "      <th>Sentiment_Subjectivity</th>\n",
       "    </tr>\n",
       "  </thead>\n",
       "  <tbody>\n",
       "    <tr>\n",
       "      <th>0</th>\n",
       "      <td>fgi2pi</td>\n",
       "      <td>welcome coronavirus specific set rule http www...</td>\n",
       "      <td>0.056667</td>\n",
       "      <td>0.292778</td>\n",
       "    </tr>\n",
       "    <tr>\n",
       "      <th>1</th>\n",
       "      <td>fgi2pi</td>\n",
       "      <td>everybody talk area whatever camp infuriates y...</td>\n",
       "      <td>0.000000</td>\n",
       "      <td>0.000000</td>\n",
       "    </tr>\n",
       "    <tr>\n",
       "      <th>2</th>\n",
       "      <td>fgi2pi</td>\n",
       "      <td>people going get avoid help tremendously aweso...</td>\n",
       "      <td>0.333333</td>\n",
       "      <td>0.666667</td>\n",
       "    </tr>\n",
       "    <tr>\n",
       "      <th>3</th>\n",
       "      <td>fgi2pi</td>\n",
       "      <td>feeling hot today weird dry cough little slugg...</td>\n",
       "      <td>-0.079390</td>\n",
       "      <td>0.684226</td>\n",
       "    </tr>\n",
       "    <tr>\n",
       "      <th>4</th>\n",
       "      <td>fgi2pi</td>\n",
       "      <td>see rest article infectious disease expert dr ...</td>\n",
       "      <td>0.000000</td>\n",
       "      <td>0.000000</td>\n",
       "    </tr>\n",
       "  </tbody>\n",
       "</table>\n",
       "</div>"
      ],
      "text/plain": [
       "       id                                            comment  \\\n",
       "0  fgi2pi  welcome coronavirus specific set rule http www...   \n",
       "1  fgi2pi  everybody talk area whatever camp infuriates y...   \n",
       "2  fgi2pi  people going get avoid help tremendously aweso...   \n",
       "3  fgi2pi  feeling hot today weird dry cough little slugg...   \n",
       "4  fgi2pi  see rest article infectious disease expert dr ...   \n",
       "\n",
       "   Sentiment_Polarity  Sentiment_Subjectivity  \n",
       "0            0.056667                0.292778  \n",
       "1            0.000000                0.000000  \n",
       "2            0.333333                0.666667  \n",
       "3           -0.079390                0.684226  \n",
       "4            0.000000                0.000000  "
      ]
     },
     "execution_count": 63,
     "metadata": {},
     "output_type": "execute_result"
    }
   ],
   "source": [
    "def find_sub(review):\n",
    "    return TextBlob(review).sentiment.subjectivity\n",
    "\n",
    "df2['Sentiment_Subjectivity'] = df2['comment'].apply(find_sub)\n",
    "df2.head(10)"
   ]
  },
  {
   "cell_type": "code",
   "execution_count": 65,
   "metadata": {},
   "outputs": [
    {
     "data": {
      "text/plain": [
       "<matplotlib.axes._subplots.AxesSubplot at 0x1369ba5c508>"
      ]
     },
     "execution_count": 65,
     "metadata": {},
     "output_type": "execute_result"
    },
    {
     "data": {
      "image/png": "[encoded data removed]",
      "text/plain": [
       "<Figure size 432x288 with 1 Axes>"
      ]
     },
     "metadata": {
      "needs_background": "light"
     },
     "output_type": "display_data"
    }
   ],
   "source": [
    "sns.distplot(df2['Sentiment_Polarity'])"
   ]
  },
  {
   "cell_type": "code",
   "execution_count": 67,
   "metadata": {},
   "outputs": [
    {
     "data": {
      "text/plain": [
       "<matplotlib.axes._subplots.AxesSubplot at 0x13694855648>"
      ]
     },
     "execution_count": 67,
     "metadata": {},
     "output_type": "execute_result"
    },
    {
     "data": {
      "image/png": "[encoded data removed]",
      "text/plain": [
       "<Figure size 432x288 with 1 Axes>"
      ]
     },
     "metadata": {
      "needs_background": "light"
     },
     "output_type": "display_data"
    }
   ],
   "source": [
    "    sns.distplot(df2['Sentiment_Subjectivity'])"
   ]
  },
  {
   "cell_type": "markdown",
   "metadata": {},
   "source": [
    "<H3>Sentiment analysis using VADER </H3>"
   ]
  },
  {
   "cell_type": "code",
   "execution_count": 75,
   "metadata": {},
   "outputs": [
    {
     "name": "stderr",
     "output_type": "stream",
     "text": [
      "[nltk_data] Downloading package vader_lexicon to\n",
      "[nltk_data]     C:\\Users\\ASUS\\AppData\\Roaming\\nltk_data...\n",
      "[nltk_data]   Package vader_lexicon is already up-to-date!\n"
     ]
    }
   ],
   "source": [
    "nltk.download('vader_lexicon')\n",
    "from nltk.sentiment.vader import SentimentIntensityAnalyzer\n",
    "\n",
    "sid = SentimentIntensityAnalyzer()"
   ]
  },
  {
   "cell_type": "code",
   "execution_count": 76,
   "metadata": {},
   "outputs": [
    {
     "data": {
      "text/plain": [
       "{'neg': 0.175, 'neu': 0.622, 'pos': 0.203, 'compound': 0.2023}"
      ]
     },
     "execution_count": 76,
     "metadata": {},
     "output_type": "execute_result"
    }
   ],
   "source": [
    "sid.polarity_scores(df2['comment'][0])"
   ]
  },
  {
   "cell_type": "code",
   "execution_count": 78,
   "metadata": {},
   "outputs": [
    {
     "data": {
      "text/html": [
       "<div>\n",
       "<style scoped>\n",
       "    .dataframe tbody tr th:only-of-type {\n",
       "        vertical-align: middle;\n",
       "    }\n",
       "\n",
       "    .dataframe tbody tr th {\n",
       "        vertical-align: top;\n",
       "    }\n",
       "\n",
       "    .dataframe thead th {\n",
       "        text-align: right;\n",
       "    }\n",
       "</style>\n",
       "<table border=\"1\" class=\"dataframe\">\n",
       "  <thead>\n",
       "    <tr style=\"text-align: right;\">\n",
       "      <th></th>\n",
       "      <th>id</th>\n",
       "      <th>comment</th>\n",
       "      <th>Sentiment_Polarity</th>\n",
       "      <th>Sentiment_Subjectivity</th>\n",
       "      <th>scores VADER</th>\n",
       "    </tr>\n",
       "  </thead>\n",
       "  <tbody>\n",
       "    <tr>\n",
       "      <th>0</th>\n",
       "      <td>fgi2pi</td>\n",
       "      <td>welcome coronavirus specific set rule http www...</td>\n",
       "      <td>0.056667</td>\n",
       "      <td>0.292778</td>\n",
       "      <td>{'neg': 0.175, 'neu': 0.622, 'pos': 0.203, 'co...</td>\n",
       "    </tr>\n",
       "    <tr>\n",
       "      <th>1</th>\n",
       "      <td>fgi2pi</td>\n",
       "      <td>everybody talk area whatever camp infuriates y...</td>\n",
       "      <td>0.000000</td>\n",
       "      <td>0.000000</td>\n",
       "      <td>{'neg': 0.309, 'neu': 0.591, 'pos': 0.1, 'comp...</td>\n",
       "    </tr>\n",
       "    <tr>\n",
       "      <th>2</th>\n",
       "      <td>fgi2pi</td>\n",
       "      <td>people going get avoid help tremendously aweso...</td>\n",
       "      <td>0.333333</td>\n",
       "      <td>0.666667</td>\n",
       "      <td>{'neg': 0.097, 'neu': 0.351, 'pos': 0.552, 'co...</td>\n",
       "    </tr>\n",
       "    <tr>\n",
       "      <th>3</th>\n",
       "      <td>fgi2pi</td>\n",
       "      <td>feeling hot today weird dry cough little slugg...</td>\n",
       "      <td>-0.079390</td>\n",
       "      <td>0.684226</td>\n",
       "      <td>{'neg': 0.233, 'neu': 0.665, 'pos': 0.101, 'co...</td>\n",
       "    </tr>\n",
       "    <tr>\n",
       "      <th>4</th>\n",
       "      <td>fgi2pi</td>\n",
       "      <td>see rest article infectious disease expert dr ...</td>\n",
       "      <td>0.000000</td>\n",
       "      <td>0.000000</td>\n",
       "      <td>{'neg': 0.0, 'neu': 1.0, 'pos': 0.0, 'compound...</td>\n",
       "    </tr>\n",
       "  </tbody>\n",
       "</table>\n",
       "</div>"
      ],
      "text/plain": [
       "       id                                            comment  \\\n",
       "0  fgi2pi  welcome coronavirus specific set rule http www...   \n",
       "1  fgi2pi  everybody talk area whatever camp infuriates y...   \n",
       "2  fgi2pi  people going get avoid help tremendously aweso...   \n",
       "3  fgi2pi  feeling hot today weird dry cough little slugg...   \n",
       "4  fgi2pi  see rest article infectious disease expert dr ...   \n",
       "\n",
       "   Sentiment_Polarity  Sentiment_Subjectivity  \\\n",
       "0            0.056667                0.292778   \n",
       "1            0.000000                0.000000   \n",
       "2            0.333333                0.666667   \n",
       "3           -0.079390                0.684226   \n",
       "4            0.000000                0.000000   \n",
       "\n",
       "                                        scores VADER  \n",
       "0  {'neg': 0.175, 'neu': 0.622, 'pos': 0.203, 'co...  \n",
       "1  {'neg': 0.309, 'neu': 0.591, 'pos': 0.1, 'comp...  \n",
       "2  {'neg': 0.097, 'neu': 0.351, 'pos': 0.552, 'co...  \n",
       "3  {'neg': 0.233, 'neu': 0.665, 'pos': 0.101, 'co...  \n",
       "4  {'neg': 0.0, 'neu': 1.0, 'pos': 0.0, 'compound...  "
      ]
     },
     "execution_count": 78,
     "metadata": {},
     "output_type": "execute_result"
    }
   ],
   "source": [
    "df2['scores VADER'] = df2['comment'].apply(lambda review: sid.polarity_scores(review))\n",
    "\n",
    "df2.head()"
   ]
  },
  {
   "cell_type": "code",
   "execution_count": 81,
   "metadata": {},
   "outputs": [
    {
     "data": {
      "text/html": [
       "<div>\n",
       "<style scoped>\n",
       "    .dataframe tbody tr th:only-of-type {\n",
       "        vertical-align: middle;\n",
       "    }\n",
       "\n",
       "    .dataframe tbody tr th {\n",
       "        vertical-align: top;\n",
       "    }\n",
       "\n",
       "    .dataframe thead th {\n",
       "        text-align: right;\n",
       "    }\n",
       "</style>\n",
       "<table border=\"1\" class=\"dataframe\">\n",
       "  <thead>\n",
       "    <tr style=\"text-align: right;\">\n",
       "      <th></th>\n",
       "      <th>id</th>\n",
       "      <th>comment</th>\n",
       "      <th>Sentiment_Polarity</th>\n",
       "      <th>Sentiment_Subjectivity</th>\n",
       "      <th>scores VADER</th>\n",
       "      <th>Snetiment VADER</th>\n",
       "    </tr>\n",
       "  </thead>\n",
       "  <tbody>\n",
       "    <tr>\n",
       "      <th>0</th>\n",
       "      <td>fgi2pi</td>\n",
       "      <td>welcome coronavirus specific set rule http www...</td>\n",
       "      <td>0.056667</td>\n",
       "      <td>0.292778</td>\n",
       "      <td>{'neg': 0.175, 'neu': 0.622, 'pos': 0.203, 'co...</td>\n",
       "      <td>0.2023</td>\n",
       "    </tr>\n",
       "    <tr>\n",
       "      <th>1</th>\n",
       "      <td>fgi2pi</td>\n",
       "      <td>everybody talk area whatever camp infuriates y...</td>\n",
       "      <td>0.000000</td>\n",
       "      <td>0.000000</td>\n",
       "      <td>{'neg': 0.309, 'neu': 0.591, 'pos': 0.1, 'comp...</td>\n",
       "      <td>-0.6808</td>\n",
       "    </tr>\n",
       "    <tr>\n",
       "      <th>2</th>\n",
       "      <td>fgi2pi</td>\n",
       "      <td>people going get avoid help tremendously aweso...</td>\n",
       "      <td>0.333333</td>\n",
       "      <td>0.666667</td>\n",
       "      <td>{'neg': 0.097, 'neu': 0.351, 'pos': 0.552, 'co...</td>\n",
       "      <td>0.8856</td>\n",
       "    </tr>\n",
       "    <tr>\n",
       "      <th>3</th>\n",
       "      <td>fgi2pi</td>\n",
       "      <td>feeling hot today weird dry cough little slugg...</td>\n",
       "      <td>-0.079390</td>\n",
       "      <td>0.684226</td>\n",
       "      <td>{'neg': 0.233, 'neu': 0.665, 'pos': 0.101, 'co...</td>\n",
       "      <td>-0.6947</td>\n",
       "    </tr>\n",
       "    <tr>\n",
       "      <th>4</th>\n",
       "      <td>fgi2pi</td>\n",
       "      <td>see rest article infectious disease expert dr ...</td>\n",
       "      <td>0.000000</td>\n",
       "      <td>0.000000</td>\n",
       "      <td>{'neg': 0.0, 'neu': 1.0, 'pos': 0.0, 'compound...</td>\n",
       "      <td>0.0000</td>\n",
       "    </tr>\n",
       "  </tbody>\n",
       "</table>\n",
       "</div>"
      ],
      "text/plain": [
       "       id                                            comment  \\\n",
       "0  fgi2pi  welcome coronavirus specific set rule http www...   \n",
       "1  fgi2pi  everybody talk area whatever camp infuriates y...   \n",
       "2  fgi2pi  people going get avoid help tremendously aweso...   \n",
       "3  fgi2pi  feeling hot today weird dry cough little slugg...   \n",
       "4  fgi2pi  see rest article infectious disease expert dr ...   \n",
       "\n",
       "   Sentiment_Polarity  Sentiment_Subjectivity  \\\n",
       "0            0.056667                0.292778   \n",
       "1            0.000000                0.000000   \n",
       "2            0.333333                0.666667   \n",
       "3           -0.079390                0.684226   \n",
       "4            0.000000                0.000000   \n",
       "\n",
       "                                        scores VADER  Snetiment VADER  \n",
       "0  {'neg': 0.175, 'neu': 0.622, 'pos': 0.203, 'co...           0.2023  \n",
       "1  {'neg': 0.309, 'neu': 0.591, 'pos': 0.1, 'comp...          -0.6808  \n",
       "2  {'neg': 0.097, 'neu': 0.351, 'pos': 0.552, 'co...           0.8856  \n",
       "3  {'neg': 0.233, 'neu': 0.665, 'pos': 0.101, 'co...          -0.6947  \n",
       "4  {'neg': 0.0, 'neu': 1.0, 'pos': 0.0, 'compound...           0.0000  "
      ]
     },
     "execution_count": 81,
     "metadata": {},
     "output_type": "execute_result"
    }
   ],
   "source": [
    "df2['Snetiment VADER']  = df2['scores VADER'].apply(lambda score_dict: score_dict['compound'])\n",
    "\n",
    "df2.head()"
   ]
  },
  {
   "cell_type": "code",
   "execution_count": 82,
   "metadata": {},
   "outputs": [
    {
     "data": {
      "text/plain": [
       "<matplotlib.axes._subplots.AxesSubplot at 0x136a1f58ac8>"
      ]
     },
     "execution_count": 82,
     "metadata": {},
     "output_type": "execute_result"
    },
    {
     "data": {
      "image/png": "[encoded data removed]",
      "text/plain": [
       "<Figure size 432x288 with 1 Axes>"
      ]
     },
     "metadata": {
      "needs_background": "light"
     },
     "output_type": "display_data"
    }
   ],
   "source": [
    "sns.distplot(df2['Snetiment VADER'])"
   ]
  },
  {
   "cell_type": "code",
   "execution_count": 84,
   "metadata": {},
   "outputs": [
    {
     "data": {
      "text/html": [
       "<div>\n",
       "<style scoped>\n",
       "    .dataframe tbody tr th:only-of-type {\n",
       "        vertical-align: middle;\n",
       "    }\n",
       "\n",
       "    .dataframe tbody tr th {\n",
       "        vertical-align: top;\n",
       "    }\n",
       "\n",
       "    .dataframe thead th {\n",
       "        text-align: right;\n",
       "    }\n",
       "</style>\n",
       "<table border=\"1\" class=\"dataframe\">\n",
       "  <thead>\n",
       "    <tr style=\"text-align: right;\">\n",
       "      <th></th>\n",
       "      <th>id</th>\n",
       "      <th>comment</th>\n",
       "      <th>Sentiment_Polarity</th>\n",
       "      <th>Sentiment_Subjectivity</th>\n",
       "      <th>scores VADER</th>\n",
       "      <th>Snetiment VADER</th>\n",
       "      <th>Final score</th>\n",
       "    </tr>\n",
       "  </thead>\n",
       "  <tbody>\n",
       "    <tr>\n",
       "      <th>0</th>\n",
       "      <td>fgi2pi</td>\n",
       "      <td>welcome coronavirus specific set rule http www...</td>\n",
       "      <td>0.056667</td>\n",
       "      <td>0.292778</td>\n",
       "      <td>{'neg': 0.175, 'neu': 0.622, 'pos': 0.203, 'co...</td>\n",
       "      <td>0.2023</td>\n",
       "      <td>0.129483</td>\n",
       "    </tr>\n",
       "    <tr>\n",
       "      <th>1</th>\n",
       "      <td>fgi2pi</td>\n",
       "      <td>everybody talk area whatever camp infuriates y...</td>\n",
       "      <td>0.000000</td>\n",
       "      <td>0.000000</td>\n",
       "      <td>{'neg': 0.309, 'neu': 0.591, 'pos': 0.1, 'comp...</td>\n",
       "      <td>-0.6808</td>\n",
       "      <td>-0.340400</td>\n",
       "    </tr>\n",
       "    <tr>\n",
       "      <th>2</th>\n",
       "      <td>fgi2pi</td>\n",
       "      <td>people going get avoid help tremendously aweso...</td>\n",
       "      <td>0.333333</td>\n",
       "      <td>0.666667</td>\n",
       "      <td>{'neg': 0.097, 'neu': 0.351, 'pos': 0.552, 'co...</td>\n",
       "      <td>0.8856</td>\n",
       "      <td>0.609467</td>\n",
       "    </tr>\n",
       "    <tr>\n",
       "      <th>3</th>\n",
       "      <td>fgi2pi</td>\n",
       "      <td>feeling hot today weird dry cough little slugg...</td>\n",
       "      <td>-0.079390</td>\n",
       "      <td>0.684226</td>\n",
       "      <td>{'neg': 0.233, 'neu': 0.665, 'pos': 0.101, 'co...</td>\n",
       "      <td>-0.6947</td>\n",
       "      <td>-0.387045</td>\n",
       "    </tr>\n",
       "    <tr>\n",
       "      <th>4</th>\n",
       "      <td>fgi2pi</td>\n",
       "      <td>see rest article infectious disease expert dr ...</td>\n",
       "      <td>0.000000</td>\n",
       "      <td>0.000000</td>\n",
       "      <td>{'neg': 0.0, 'neu': 1.0, 'pos': 0.0, 'compound...</td>\n",
       "      <td>0.0000</td>\n",
       "      <td>0.000000</td>\n",
       "    </tr>\n",
       "  </tbody>\n",
       "</table>\n",
       "</div>"
      ],
      "text/plain": [
       "       id                                            comment  \\\n",
       "0  fgi2pi  welcome coronavirus specific set rule http www...   \n",
       "1  fgi2pi  everybody talk area whatever camp infuriates y...   \n",
       "2  fgi2pi  people going get avoid help tremendously aweso...   \n",
       "3  fgi2pi  feeling hot today weird dry cough little slugg...   \n",
       "4  fgi2pi  see rest article infectious disease expert dr ...   \n",
       "\n",
       "   Sentiment_Polarity  Sentiment_Subjectivity  \\\n",
       "0            0.056667                0.292778   \n",
       "1            0.000000                0.000000   \n",
       "2            0.333333                0.666667   \n",
       "3           -0.079390                0.684226   \n",
       "4            0.000000                0.000000   \n",
       "\n",
       "                                        scores VADER  Snetiment VADER  \\\n",
       "0  {'neg': 0.175, 'neu': 0.622, 'pos': 0.203, 'co...           0.2023   \n",
       "1  {'neg': 0.309, 'neu': 0.591, 'pos': 0.1, 'comp...          -0.6808   \n",
       "2  {'neg': 0.097, 'neu': 0.351, 'pos': 0.552, 'co...           0.8856   \n",
       "3  {'neg': 0.233, 'neu': 0.665, 'pos': 0.101, 'co...          -0.6947   \n",
       "4  {'neg': 0.0, 'neu': 1.0, 'pos': 0.0, 'compound...           0.0000   \n",
       "\n",
       "   Final score  \n",
       "0     0.129483  \n",
       "1    -0.340400  \n",
       "2     0.609467  \n",
       "3    -0.387045  \n",
       "4     0.000000  "
      ]
     },
     "execution_count": 84,
     "metadata": {},
     "output_type": "execute_result"
    }
   ],
   "source": [
    "df2['Final score']  = (df2['Snetiment VADER']+df2['Sentiment_Polarity'])/2\n",
    "df2.head()"
   ]
  },
  {
   "cell_type": "code",
   "execution_count": 85,
   "metadata": {},
   "outputs": [
    {
     "data": {
      "text/plain": [
       "<matplotlib.axes._subplots.AxesSubplot at 0x136a1f4a908>"
      ]
     },
     "execution_count": 85,
     "metadata": {},
     "output_type": "execute_result"
    },
    {
     "data": {
      "image/png": "[encoded data removed]",
      "text/plain": [
       "<Figure size 432x288 with 1 Axes>"
      ]
     },
     "metadata": {
      "needs_background": "light"
     },
     "output_type": "display_data"
    }
   ],
   "source": [
    "sns.distplot(df2['Final score'])"
   ]
  },
  {
   "cell_type": "code",
   "execution_count": 106,
   "metadata": {},
   "outputs": [
    {
     "data": {
      "text/html": [
       "<div>\n",
       "<style scoped>\n",
       "    .dataframe tbody tr th:only-of-type {\n",
       "        vertical-align: middle;\n",
       "    }\n",
       "\n",
       "    .dataframe tbody tr th {\n",
       "        vertical-align: top;\n",
       "    }\n",
       "\n",
       "    .dataframe thead th {\n",
       "        text-align: right;\n",
       "    }\n",
       "</style>\n",
       "<table border=\"1\" class=\"dataframe\">\n",
       "  <thead>\n",
       "    <tr style=\"text-align: right;\">\n",
       "      <th></th>\n",
       "      <th>id</th>\n",
       "      <th>comment</th>\n",
       "      <th>Sentiment_Polarity</th>\n",
       "      <th>Sentiment_Subjectivity</th>\n",
       "      <th>scores VADER</th>\n",
       "      <th>Snetiment VADER</th>\n",
       "      <th>Final score</th>\n",
       "      <th>label</th>\n",
       "    </tr>\n",
       "  </thead>\n",
       "  <tbody>\n",
       "    <tr>\n",
       "      <th>0</th>\n",
       "      <td>fgi2pi</td>\n",
       "      <td>welcome coronavirus specific set rule http www...</td>\n",
       "      <td>0.056667</td>\n",
       "      <td>0.292778</td>\n",
       "      <td>{'neg': 0.175, 'neu': 0.622, 'pos': 0.203, 'co...</td>\n",
       "      <td>0.2023</td>\n",
       "      <td>0.129483</td>\n",
       "      <td>1</td>\n",
       "    </tr>\n",
       "    <tr>\n",
       "      <th>1</th>\n",
       "      <td>fgi2pi</td>\n",
       "      <td>everybody talk area whatever camp infuriates y...</td>\n",
       "      <td>0.000000</td>\n",
       "      <td>0.000000</td>\n",
       "      <td>{'neg': 0.309, 'neu': 0.591, 'pos': 0.1, 'comp...</td>\n",
       "      <td>-0.6808</td>\n",
       "      <td>-0.340400</td>\n",
       "      <td>-1</td>\n",
       "    </tr>\n",
       "    <tr>\n",
       "      <th>2</th>\n",
       "      <td>fgi2pi</td>\n",
       "      <td>people going get avoid help tremendously aweso...</td>\n",
       "      <td>0.333333</td>\n",
       "      <td>0.666667</td>\n",
       "      <td>{'neg': 0.097, 'neu': 0.351, 'pos': 0.552, 'co...</td>\n",
       "      <td>0.8856</td>\n",
       "      <td>0.609467</td>\n",
       "      <td>1</td>\n",
       "    </tr>\n",
       "    <tr>\n",
       "      <th>3</th>\n",
       "      <td>fgi2pi</td>\n",
       "      <td>feeling hot today weird dry cough little slugg...</td>\n",
       "      <td>-0.079390</td>\n",
       "      <td>0.684226</td>\n",
       "      <td>{'neg': 0.233, 'neu': 0.665, 'pos': 0.101, 'co...</td>\n",
       "      <td>-0.6947</td>\n",
       "      <td>-0.387045</td>\n",
       "      <td>-1</td>\n",
       "    </tr>\n",
       "    <tr>\n",
       "      <th>4</th>\n",
       "      <td>fgi2pi</td>\n",
       "      <td>see rest article infectious disease expert dr ...</td>\n",
       "      <td>0.000000</td>\n",
       "      <td>0.000000</td>\n",
       "      <td>{'neg': 0.0, 'neu': 1.0, 'pos': 0.0, 'compound...</td>\n",
       "      <td>0.0000</td>\n",
       "      <td>0.000000</td>\n",
       "      <td>0</td>\n",
       "    </tr>\n",
       "  </tbody>\n",
       "</table>\n",
       "</div>"
      ],
      "text/plain": [
       "       id                                            comment  \\\n",
       "0  fgi2pi  welcome coronavirus specific set rule http www...   \n",
       "1  fgi2pi  everybody talk area whatever camp infuriates y...   \n",
       "2  fgi2pi  people going get avoid help tremendously aweso...   \n",
       "3  fgi2pi  feeling hot today weird dry cough little slugg...   \n",
       "4  fgi2pi  see rest article infectious disease expert dr ...   \n",
       "\n",
       "   Sentiment_Polarity  Sentiment_Subjectivity  \\\n",
       "0            0.056667                0.292778   \n",
       "1            0.000000                0.000000   \n",
       "2            0.333333                0.666667   \n",
       "3           -0.079390                0.684226   \n",
       "4            0.000000                0.000000   \n",
       "\n",
       "                                        scores VADER  Snetiment VADER  \\\n",
       "0  {'neg': 0.175, 'neu': 0.622, 'pos': 0.203, 'co...           0.2023   \n",
       "1  {'neg': 0.309, 'neu': 0.591, 'pos': 0.1, 'comp...          -0.6808   \n",
       "2  {'neg': 0.097, 'neu': 0.351, 'pos': 0.552, 'co...           0.8856   \n",
       "3  {'neg': 0.233, 'neu': 0.665, 'pos': 0.101, 'co...          -0.6947   \n",
       "4  {'neg': 0.0, 'neu': 1.0, 'pos': 0.0, 'compound...           0.0000   \n",
       "\n",
       "   Final score label  \n",
       "0     0.129483     1  \n",
       "1    -0.340400    -1  \n",
       "2     0.609467     1  \n",
       "3    -0.387045    -1  \n",
       "4     0.000000     0  "
      ]
     },
     "execution_count": 106,
     "metadata": {},
     "output_type": "execute_result"
    }
   ],
   "source": [
    "conditions = [\n",
    "    (df2['Final score'] < 0),\n",
    "    (df2['Final score'] > 0) ,\n",
    "    (df2['Final score'] == 0) \n",
    "    ]\n",
    "\n",
    "# create a list of the values we want to assign for each condition\n",
    "values = ['-1', '1', '0']\n",
    "\n",
    "# create a new column and use np.select to assign values to it using our lists as arguments\n",
    "df2['label'] = np.select(conditions, values)\n",
    "\n",
    "# display updated DataFrame\n",
    "df2.head()"
   ]
  },
  {
   "cell_type": "code",
   "execution_count": 107,
   "metadata": {},
   "outputs": [
    {
     "data": {
      "text/plain": [
       "<matplotlib.axes._subplots.AxesSubplot at 0x136c1a461c8>"
      ]
     },
     "execution_count": 107,
     "metadata": {},
     "output_type": "execute_result"
    },
    {
     "data": {
      "image/png": "[encoded data removed]",
      "text/plain": [
       "<Figure size 432x288 with 1 Axes>"
      ]
     },
     "metadata": {
      "needs_background": "light"
     },
     "output_type": "display_data"
    }
   ],
   "source": [
    "df2['label'].value_counts(normalize=True).plot(kind='bar')"
   ]
  },
  {
   "cell_type": "markdown",
   "metadata": {},
   "source": [
    " <h2>Task 2 : Topic Modeling</h2>"
   ]
  },
  {
   "cell_type": "markdown",
   "metadata": {},
   "source": [
    "<h3>Latent Dirichlet Allocation (LDA) </h3>"
   ]
  },
  {
   "cell_type": "markdown",
   "metadata": {},
   "source": [
    "The LDA is based upon two general assumptions:\n",
    "\n",
    "\n",
    "<ul>\n",
    "<li>Documents that have similar words usually have the same topic\n",
    "</li>\n",
    "<li>Documents that have groups of words frequently occurring together usually have the same topic.\n",
    "</li>\n",
    "</ul>"
   ]
  },
  {
   "cell_type": "code",
   "execution_count": 113,
   "metadata": {},
   "outputs": [],
   "source": [
    "#create vocabulary of all the words"
   ]
  },
  {
   "cell_type": "code",
   "execution_count": 115,
   "metadata": {},
   "outputs": [],
   "source": [
    "count_vect = CountVectorizer(max_df=0.8, min_df=2, stop_words='english')\n",
    "doc_term_matrix = count_vect.fit_transform(df['title'].values.astype('U'))"
   ]
  },
  {
   "cell_type": "code",
   "execution_count": 116,
   "metadata": {},
   "outputs": [
    {
     "data": {
      "text/plain": [
       "<9369x4954 sparse matrix of type '<class 'numpy.int64'>'\n",
       "\twith 70838 stored elements in Compressed Sparse Row format>"
      ]
     },
     "execution_count": 116,
     "metadata": {},
     "output_type": "execute_result"
    }
   ],
   "source": [
    "doc_term_matrix"
   ]
  },
  {
   "cell_type": "code",
   "execution_count": 132,
   "metadata": {},
   "outputs": [
    {
     "data": {
      "text/plain": [
       "LatentDirichletAllocation(batch_size=128, doc_topic_prior=None,\n",
       "                          evaluate_every=-1, learning_decay=0.7,\n",
       "                          learning_method='batch', learning_offset=10.0,\n",
       "                          max_doc_update_iter=100, max_iter=10,\n",
       "                          mean_change_tol=0.001, n_components=2, n_jobs=None,\n",
       "                          perp_tol=0.1, random_state=42, topic_word_prior=None,\n",
       "                          total_samples=1000000.0, verbose=0)"
      ]
     },
     "execution_count": 132,
     "metadata": {},
     "output_type": "execute_result"
    }
   ],
   "source": [
    "LDA = LatentDirichletAllocation(n_components=2, random_state=42)\n",
    "LDA.fit(doc_term_matrix)"
   ]
  },
  {
   "cell_type": "code",
   "execution_count": 127,
   "metadata": {},
   "outputs": [],
   "source": [
    "#10 words with the highest probability for the first topic"
   ]
  },
  {
   "cell_type": "code",
   "execution_count": 133,
   "metadata": {},
   "outputs": [
    {
     "data": {
      "text/plain": [
       "array([3160, 3054, 3857, 3279,  708, 1999, 3127, 4409,  995,  959],\n",
       "      dtype=int64)"
      ]
     },
     "execution_count": 133,
     "metadata": {},
     "output_type": "execute_result"
    }
   ],
   "source": [
    "first_topic = LDA.components_[0]\n",
    "top_topic_words = first_topic.argsort()[-10:]\n",
    "top_topic_words"
   ]
  },
  {
   "cell_type": "code",
   "execution_count": 134,
   "metadata": {},
   "outputs": [
    {
     "name": "stdout",
     "output_type": "stream",
     "text": [
      "people\n",
      "outbreak\n",
      "say\n",
      "positive\n",
      "china\n",
      "health\n",
      "patient\n",
      "test\n",
      "covid\n",
      "coronavirus\n"
     ]
    }
   ],
   "source": [
    "for i in top_topic_words:\n",
    "    print(count_vect.get_feature_names()[i])"
   ]
  },
  {
   "cell_type": "code",
   "execution_count": 135,
   "metadata": {},
   "outputs": [],
   "source": [
    "#10 words with highest probabilities for all the 3 topics:"
   ]
  },
  {
   "cell_type": "code",
   "execution_count": 136,
   "metadata": {},
   "outputs": [
    {
     "name": "stdout",
     "output_type": "stream",
     "text": [
      "Top 10 words for topic #0:\n",
      "['people', 'outbreak', 'say', 'positive', 'china', 'health', 'patient', 'test', 'covid', 'coronavirus']\n",
      "\n",
      "\n",
      "Top 10 words for topic #1:\n",
      "['school', 'covid', 'confirmed', 'time', 'italy', 'virus', 'people', 'new', 'coronavirus', 'case']\n",
      "\n",
      "\n"
     ]
    }
   ],
   "source": [
    "for i,topic in enumerate(LDA.components_):\n",
    "    print(f'Top 10 words for topic #{i}:')\n",
    "    print([count_vect.get_feature_names()[i] for i in topic.argsort()[-10:]])\n",
    "    print('\\n')"
   ]
  },
  {
   "cell_type": "code",
   "execution_count": 137,
   "metadata": {},
   "outputs": [],
   "source": [
    "#topic 1 :  coronavirus in china \n",
    "#topic 2 : coronavirus in italy"
   ]
  },
  {
   "cell_type": "code",
   "execution_count": 138,
   "metadata": {},
   "outputs": [],
   "source": [
    "#add a column to the original data fram"
   ]
  },
  {
   "cell_type": "code",
   "execution_count": 139,
   "metadata": {},
   "outputs": [
    {
     "data": {
      "text/plain": [
       "(9369, 2)"
      ]
     },
     "execution_count": 139,
     "metadata": {},
     "output_type": "execute_result"
    }
   ],
   "source": [
    "topic_values = LDA.transform(doc_term_matrix)\n",
    "topic_values.shape"
   ]
  },
  {
   "cell_type": "code",
   "execution_count": 141,
   "metadata": {},
   "outputs": [
    {
     "data": {
      "text/html": [
       "<div>\n",
       "<style scoped>\n",
       "    .dataframe tbody tr th:only-of-type {\n",
       "        vertical-align: middle;\n",
       "    }\n",
       "\n",
       "    .dataframe tbody tr th {\n",
       "        vertical-align: top;\n",
       "    }\n",
       "\n",
       "    .dataframe thead th {\n",
       "        text-align: right;\n",
       "    }\n",
       "</style>\n",
       "<table border=\"1\" class=\"dataframe\">\n",
       "  <thead>\n",
       "    <tr style=\"text-align: right;\">\n",
       "      <th></th>\n",
       "      <th>id</th>\n",
       "      <th>subreddit</th>\n",
       "      <th>title</th>\n",
       "      <th>time_created</th>\n",
       "      <th>body</th>\n",
       "      <th>score</th>\n",
       "      <th>num_comments</th>\n",
       "      <th>url</th>\n",
       "      <th>Topic</th>\n",
       "    </tr>\n",
       "  </thead>\n",
       "  <tbody>\n",
       "    <tr>\n",
       "      <th>0</th>\n",
       "      <td>fgi2pi</td>\n",
       "      <td>Coronavirus</td>\n",
       "      <td>even covid unavoidable delaying infection flat...</td>\n",
       "      <td>2020-03-11 02:04:01</td>\n",
       "      <td>NaN</td>\n",
       "      <td>109339</td>\n",
       "      <td>3552</td>\n",
       "      <td>https://thespinoff.co.nz/wp-content/uploads/20...</td>\n",
       "      <td>0</td>\n",
       "    </tr>\n",
       "    <tr>\n",
       "      <th>1</th>\n",
       "      <td>fjcz60</td>\n",
       "      <td>Coronavirus</td>\n",
       "      <td>italian hospital ran icu valve local biz broug...</td>\n",
       "      <td>2020-03-16 09:52:17</td>\n",
       "      <td>NaN</td>\n",
       "      <td>92343</td>\n",
       "      <td>1368</td>\n",
       "      <td>https://twitter.com/michalnaka/status/12393162...</td>\n",
       "      <td>1</td>\n",
       "    </tr>\n",
       "    <tr>\n",
       "      <th>2</th>\n",
       "      <td>fjn7at</td>\n",
       "      <td>Coronavirus</td>\n",
       "      <td>mitt romney every american adult immediately r...</td>\n",
       "      <td>2020-03-16 23:58:19</td>\n",
       "      <td>NaN</td>\n",
       "      <td>71918</td>\n",
       "      <td>3775</td>\n",
       "      <td>https://twitter.com/jmartNYT/status/1239578864...</td>\n",
       "      <td>1</td>\n",
       "    </tr>\n",
       "    <tr>\n",
       "      <th>3</th>\n",
       "      <td>fheqv9</td>\n",
       "      <td>Coronavirus</td>\n",
       "      <td>expected pornhub offer free premium access ita...</td>\n",
       "      <td>2020-03-12 19:18:23</td>\n",
       "      <td>NaN</td>\n",
       "      <td>70608</td>\n",
       "      <td>1657</td>\n",
       "      <td>https://www.fantacalcio.it/news/attualita/12_0...</td>\n",
       "      <td>1</td>\n",
       "    </tr>\n",
       "    <tr>\n",
       "      <th>4</th>\n",
       "      <td>fk6aqs</td>\n",
       "      <td>Coronavirus</td>\n",
       "      <td>italy surgeon anesthesiologist nurse risked in...</td>\n",
       "      <td>2020-03-17 22:36:26</td>\n",
       "      <td>NaN</td>\n",
       "      <td>69634</td>\n",
       "      <td>1495</td>\n",
       "      <td>https://torino.repubblica.it/cronaca/2020/03/1...</td>\n",
       "      <td>0</td>\n",
       "    </tr>\n",
       "  </tbody>\n",
       "</table>\n",
       "</div>"
      ],
      "text/plain": [
       "       id    subreddit                                              title  \\\n",
       "0  fgi2pi  Coronavirus  even covid unavoidable delaying infection flat...   \n",
       "1  fjcz60  Coronavirus  italian hospital ran icu valve local biz broug...   \n",
       "2  fjn7at  Coronavirus  mitt romney every american adult immediately r...   \n",
       "3  fheqv9  Coronavirus  expected pornhub offer free premium access ita...   \n",
       "4  fk6aqs  Coronavirus  italy surgeon anesthesiologist nurse risked in...   \n",
       "\n",
       "          time_created body   score  num_comments  \\\n",
       "0  2020-03-11 02:04:01  NaN  109339          3552   \n",
       "1  2020-03-16 09:52:17  NaN   92343          1368   \n",
       "2  2020-03-16 23:58:19  NaN   71918          3775   \n",
       "3  2020-03-12 19:18:23  NaN   70608          1657   \n",
       "4  2020-03-17 22:36:26  NaN   69634          1495   \n",
       "\n",
       "                                                 url  Topic  \n",
       "0  https://thespinoff.co.nz/wp-content/uploads/20...      0  \n",
       "1  https://twitter.com/michalnaka/status/12393162...      1  \n",
       "2  https://twitter.com/jmartNYT/status/1239578864...      1  \n",
       "3  https://www.fantacalcio.it/news/attualita/12_0...      1  \n",
       "4  https://torino.repubblica.it/cronaca/2020/03/1...      0  "
      ]
     },
     "execution_count": 141,
     "metadata": {},
     "output_type": "execute_result"
    }
   ],
   "source": [
    "df['Topic'] = topic_values.argmax(axis=1)\n",
    "df.head()"
   ]
  },
  {
   "cell_type": "markdown",
   "metadata": {},
   "source": [
    "<h3>Task 3 : Predicting the score of the post</h3>"
   ]
  },
  {
   "cell_type": "code",
   "execution_count": 142,
   "metadata": {},
   "outputs": [],
   "source": [
    "# Use describe to explore the numerical variables \n"
   ]
  },
  {
   "cell_type": "code",
   "execution_count": 143,
   "metadata": {},
   "outputs": [
    {
     "data": {
      "text/html": [
       "<div>\n",
       "<style scoped>\n",
       "    .dataframe tbody tr th:only-of-type {\n",
       "        vertical-align: middle;\n",
       "    }\n",
       "\n",
       "    .dataframe tbody tr th {\n",
       "        vertical-align: top;\n",
       "    }\n",
       "\n",
       "    .dataframe thead th {\n",
       "        text-align: right;\n",
       "    }\n",
       "</style>\n",
       "<table border=\"1\" class=\"dataframe\">\n",
       "  <thead>\n",
       "    <tr style=\"text-align: right;\">\n",
       "      <th></th>\n",
       "      <th>score</th>\n",
       "      <th>num_comments</th>\n",
       "      <th>Topic</th>\n",
       "    </tr>\n",
       "  </thead>\n",
       "  <tbody>\n",
       "    <tr>\n",
       "      <th>count</th>\n",
       "      <td>9369.000000</td>\n",
       "      <td>9369.000000</td>\n",
       "      <td>9369.000000</td>\n",
       "    </tr>\n",
       "    <tr>\n",
       "      <th>mean</th>\n",
       "      <td>902.288505</td>\n",
       "      <td>87.591419</td>\n",
       "      <td>0.511261</td>\n",
       "    </tr>\n",
       "    <tr>\n",
       "      <th>std</th>\n",
       "      <td>4211.429946</td>\n",
       "      <td>294.542419</td>\n",
       "      <td>0.499900</td>\n",
       "    </tr>\n",
       "    <tr>\n",
       "      <th>min</th>\n",
       "      <td>0.000000</td>\n",
       "      <td>0.000000</td>\n",
       "      <td>0.000000</td>\n",
       "    </tr>\n",
       "    <tr>\n",
       "      <th>25%</th>\n",
       "      <td>13.000000</td>\n",
       "      <td>3.000000</td>\n",
       "      <td>0.000000</td>\n",
       "    </tr>\n",
       "    <tr>\n",
       "      <th>50%</th>\n",
       "      <td>36.000000</td>\n",
       "      <td>14.000000</td>\n",
       "      <td>1.000000</td>\n",
       "    </tr>\n",
       "    <tr>\n",
       "      <th>75%</th>\n",
       "      <td>180.000000</td>\n",
       "      <td>58.000000</td>\n",
       "      <td>1.000000</td>\n",
       "    </tr>\n",
       "    <tr>\n",
       "      <th>max</th>\n",
       "      <td>109339.000000</td>\n",
       "      <td>12840.000000</td>\n",
       "      <td>1.000000</td>\n",
       "    </tr>\n",
       "  </tbody>\n",
       "</table>\n",
       "</div>"
      ],
      "text/plain": [
       "               score  num_comments        Topic\n",
       "count    9369.000000   9369.000000  9369.000000\n",
       "mean      902.288505     87.591419     0.511261\n",
       "std      4211.429946    294.542419     0.499900\n",
       "min         0.000000      0.000000     0.000000\n",
       "25%        13.000000      3.000000     0.000000\n",
       "50%        36.000000     14.000000     1.000000\n",
       "75%       180.000000     58.000000     1.000000\n",
       "max    109339.000000  12840.000000     1.000000"
      ]
     },
     "execution_count": 143,
     "metadata": {},
     "output_type": "execute_result"
    }
   ],
   "source": [
    "df.describe()"
   ]
  },
  {
   "cell_type": "code",
   "execution_count": 144,
   "metadata": {},
   "outputs": [
    {
     "data": {
      "image/png": "[encoded data removed]",
      "text/plain": [
       "<Figure size 1440x1080 with 4 Axes>"
      ]
     },
     "metadata": {
      "needs_background": "light"
     },
     "output_type": "display_data"
    }
   ],
   "source": [
    "df.hist(bins=50, figsize=(20,15))\n",
    "plt.show()"
   ]
  },
  {
   "cell_type": "code",
   "execution_count": 147,
   "metadata": {},
   "outputs": [
    {
     "data": {
      "image/png": "[encoded data removed]",
      "text/plain": [
       "<Figure size 432x288 with 2 Axes>"
      ]
     },
     "metadata": {
      "needs_background": "light"
     },
     "output_type": "display_data"
    }
   ],
   "source": [
    "correlation_mat = df.corr()\n",
    "\n",
    "sns.heatmap(correlation_mat, annot = True)\n",
    "\n",
    "plt.show()"
   ]
  },
  {
   "cell_type": "code",
   "execution_count": 148,
   "metadata": {},
   "outputs": [],
   "source": [
    "#no crrelation betwenn topic and score\n",
    "#strong correlation between num_comments and scrore"
   ]
  },
  {
   "cell_type": "code",
   "execution_count": 200,
   "metadata": {},
   "outputs": [
    {
     "data": {
      "text/html": [
       "<div>\n",
       "<style scoped>\n",
       "    .dataframe tbody tr th:only-of-type {\n",
       "        vertical-align: middle;\n",
       "    }\n",
       "\n",
       "    .dataframe tbody tr th {\n",
       "        vertical-align: top;\n",
       "    }\n",
       "\n",
       "    .dataframe thead th {\n",
       "        text-align: right;\n",
       "    }\n",
       "</style>\n",
       "<table border=\"1\" class=\"dataframe\">\n",
       "  <thead>\n",
       "    <tr style=\"text-align: right;\">\n",
       "      <th></th>\n",
       "      <th>score</th>\n",
       "      <th>num_comments</th>\n",
       "    </tr>\n",
       "  </thead>\n",
       "  <tbody>\n",
       "    <tr>\n",
       "      <th>0</th>\n",
       "      <td>109339</td>\n",
       "      <td>3552</td>\n",
       "    </tr>\n",
       "    <tr>\n",
       "      <th>1</th>\n",
       "      <td>92343</td>\n",
       "      <td>1368</td>\n",
       "    </tr>\n",
       "    <tr>\n",
       "      <th>2</th>\n",
       "      <td>71918</td>\n",
       "      <td>3775</td>\n",
       "    </tr>\n",
       "    <tr>\n",
       "      <th>3</th>\n",
       "      <td>70608</td>\n",
       "      <td>1657</td>\n",
       "    </tr>\n",
       "    <tr>\n",
       "      <th>4</th>\n",
       "      <td>69634</td>\n",
       "      <td>1495</td>\n",
       "    </tr>\n",
       "  </tbody>\n",
       "</table>\n",
       "</div>"
      ],
      "text/plain": [
       "    score  num_comments\n",
       "0  109339          3552\n",
       "1   92343          1368\n",
       "2   71918          3775\n",
       "3   70608          1657\n",
       "4   69634          1495"
      ]
     },
     "execution_count": 200,
     "metadata": {},
     "output_type": "execute_result"
    }
   ],
   "source": [
    "df.drop(['Topic','id','subreddit','title','time_created','body','url'],axis=1,inplace=True)\n",
    "df.head()"
   ]
  },
  {
   "cell_type": "code",
   "execution_count": 211,
   "metadata": {},
   "outputs": [],
   "source": [
    "y = df.iloc[:, :-1].values # the  column which contains the num_comments\n",
    "x = df.iloc[:, 1].values #score"
   ]
  },
  {
   "cell_type": "code",
   "execution_count": 212,
   "metadata": {},
   "outputs": [],
   "source": [
    "X_train, X_test, y_train, y_test = train_test_split(X, y, test_size=1/3, random_state=0)"
   ]
  },
  {
   "cell_type": "code",
   "execution_count": 213,
   "metadata": {},
   "outputs": [
    {
     "data": {
      "text/plain": [
       "LinearRegression(copy_X=True, fit_intercept=True, n_jobs=None, normalize=False)"
      ]
     },
     "execution_count": 213,
     "metadata": {},
     "output_type": "execute_result"
    }
   ],
   "source": [
    "regressor = LinearRegression()\n",
    "regressor.fit(X_train, y_train)"
   ]
  },
  {
   "cell_type": "code",
   "execution_count": 215,
   "metadata": {},
   "outputs": [
    {
     "data": {
      "image/png": "[encoded data removed]",
      "text/plain": [
       "<Figure size 432x288 with 1 Axes>"
      ]
     },
     "metadata": {
      "needs_background": "light"
     },
     "output_type": "display_data"
    },
    {
     "data": {
      "image/png": "[encoded data removed]",
      "text/plain": [
       "<Figure size 432x288 with 1 Axes>"
      ]
     },
     "metadata": {
      "needs_background": "light"
     },
     "output_type": "display_data"
    }
   ],
   "source": [
    "# Visualizing the Training set results\n",
    "viz_train = plt\n",
    "viz_train.scatter(X_train, y_train, color='red')\n",
    "viz_train.plot(X_train, regressor.predict(X_train), color='blue')\n",
    "viz_train.title('Num Comment VS Score (Training set)')\n",
    "viz_train.xlabel('Num Comment')\n",
    "viz_train.ylabel('Score')\n",
    "viz_train.show()\n",
    "\n",
    "# Visualizing the Test set results\n",
    "viz_test = plt\n",
    "viz_test.scatter(X_test, y_test, color='red')\n",
    "viz_test.plot(X_train, regressor.predict(X_train), color='blue')\n",
    "viz_test.title('Num Comment VS Score (Test set)')\n",
    "viz_test.xlabel('Num Comment')\n",
    "viz_test.ylabel('Score')\n",
    "viz_test.show()"
   ]
  },
  {
   "cell_type": "code",
   "execution_count": null,
   "metadata": {},
   "outputs": [],
   "source": []
  }
 ],
 "metadata": {
  "kernelspec": {
   "display_name": "Python 3",
   "language": "python",
   "name": "python3"
  },
  "language_info": {
   "codemirror_mode": {
    "name": "ipython",
    "version": 3
   },
   "file_extension": ".py",
   "mimetype": "text/x-python",
   "name": "python",
   "nbconvert_exporter": "python",
   "pygments_lexer": "ipython3",
   "version": "3.7.6"
  }
 },
 "nbformat": 4,
 "nbformat_minor": 4
}
